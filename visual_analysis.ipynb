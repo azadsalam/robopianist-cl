{
 "cells": [
  {
   "cell_type": "raw",
   "id": "d07436d7-8e83-4e80-9532-432c8227ef24",
   "metadata": {},
   "source": [
    "PCA Analysis 1:\n",
    "\n",
    "1. create dataset = chunks of etude-12 set (5 second chunks)\n",
    "\n",
    "2. vector_dataset => binary-pitch-matrix by gridifying the midi , time_step = 0.1 => make 1-d by row major/column\n",
    "\n",
    "3. learn pca on the chunk vector dataset - dimenstion 2\n",
    "\n",
    "4. for each etude-song:\n",
    "    => visualize the chunks of that song\n",
    "\n",
    "     1 combined viz with all of the 12 songs ... [with different color dots]\n",
    "---------------------------------------------------"
   ]
  },
  {
   "cell_type": "code",
   "execution_count": 1,
   "id": "0d79b51a-832c-4b95-89fd-107ed5f94cb5",
   "metadata": {},
   "outputs": [
    {
     "name": "stderr",
     "output_type": "stream",
     "text": [
      "/home/ubuntu/miniconda3/envs/pianist/lib/python3.10/site-packages/glfw/__init__.py:916: GLFWError: (65544) b'X11: The DISPLAY environment variable is missing'\n",
      "  warnings.warn(message, GLFWError)\n",
      "/home/ubuntu/miniconda3/envs/pianist/lib/python3.10/site-packages/bokeh/core/property/primitive.py:37: DeprecationWarning: `np.bool8` is a deprecated alias for `np.bool_`.  (Deprecated NumPy 1.24)\n",
      "  bokeh_bool_types += (np.bool8,)\n"
     ]
    }
   ],
   "source": [
    "import numpy as np\n",
    "from robopianist import suite\n",
    "from robopianist import music\n",
    "from mujoco_utils import composer_utils\n",
    "from robopianist.suite.tasks import piano_with_shadow_hands \n",
    "import note_seq\n",
    "import pretty_midi\n",
    "!export BOKEH_PY_LOG_LEVEL=critical"
   ]
  },
  {
   "cell_type": "code",
   "execution_count": 2,
   "id": "3044aa0e",
   "metadata": {},
   "outputs": [],
   "source": [
    "from robopianist import music"
   ]
  },
  {
   "cell_type": "code",
   "execution_count": 2,
   "id": "bce86489-cc15-445a-a3c9-697df092a8a9",
   "metadata": {},
   "outputs": [
    {
     "name": "stdout",
     "output_type": "stream",
     "text": [
      "Requirement already satisfied: bokeh==2.4.3 in /home/ubuntu/miniconda3/envs/pianist/lib/python3.10/site-packages (2.4.3)\n",
      "Requirement already satisfied: Jinja2>=2.9 in /home/ubuntu/miniconda3/envs/pianist/lib/python3.10/site-packages (from bokeh==2.4.3) (3.1.2)\n",
      "Requirement already satisfied: numpy>=1.11.3 in /home/ubuntu/miniconda3/envs/pianist/lib/python3.10/site-packages (from bokeh==2.4.3) (1.24.4)\n",
      "Requirement already satisfied: packaging>=16.8 in /home/ubuntu/miniconda3/envs/pianist/lib/python3.10/site-packages (from bokeh==2.4.3) (23.1)\n",
      "Requirement already satisfied: pillow>=7.1.0 in /home/ubuntu/miniconda3/envs/pianist/lib/python3.10/site-packages (from bokeh==2.4.3) (10.0.0)\n",
      "Requirement already satisfied: PyYAML>=3.10 in /home/ubuntu/miniconda3/envs/pianist/lib/python3.10/site-packages (from bokeh==2.4.3) (6.0.1)\n",
      "Requirement already satisfied: tornado>=5.1 in /home/ubuntu/miniconda3/envs/pianist/lib/python3.10/site-packages (from bokeh==2.4.3) (6.3.2)\n",
      "Requirement already satisfied: typing-extensions>=3.10.0 in /home/ubuntu/miniconda3/envs/pianist/lib/python3.10/site-packages (from bokeh==2.4.3) (4.5.0)\n",
      "Requirement already satisfied: MarkupSafe>=2.0 in /home/ubuntu/miniconda3/envs/pianist/lib/python3.10/site-packages (from Jinja2>=2.9->bokeh==2.4.3) (2.1.1)\n"
     ]
    }
   ],
   "source": [
    "!pip install --upgrade bokeh==2.4.3 "
   ]
  },
  {
   "cell_type": "code",
   "execution_count": 15,
   "id": "d9315f4c-04b7-499d-a7b7-83402c594b73",
   "metadata": {},
   "outputs": [
    {
     "name": "stdout",
     "output_type": "stream",
     "text": [
      "7.5\n",
      "0 5.0\n",
      "1 5.0\n"
     ]
    }
   ],
   "source": [
    "#chunk example \n",
    "from utils import utils\n",
    "\n",
    "test_melody = \"CMajorScaleOneHand\"\n",
    "midi = music.load(test_melody)\n",
    "\n",
    "#note_seq.play_sequence(midi.seq)\n",
    "print(midi.duration)\n",
    "\n",
    "\n",
    "chunks = utils.get_overlapping_chunks_with_auto_overlap(midi, 5)\n",
    "\n",
    "for i, chunk in enumerate(chunks):\n",
    "    print(i, chunk.duration)\n",
    "    #note_seq.play_sequence(chunk.seq)\n",
    "    "
   ]
  },
  {
   "cell_type": "code",
   "execution_count": 8,
   "id": "117b45dc",
   "metadata": {},
   "outputs": [
    {
     "data": {
      "text/plain": [
       "MidiFile(seq=notes {\n",
       "  pitch: 72\n",
       "  velocity: 80\n",
       "  end_time: 0.5\n",
       "}\n",
       "notes {\n",
       "  pitch: 74\n",
       "  velocity: 80\n",
       "  start_time: 0.5\n",
       "  end_time: 1\n",
       "  part: 1\n",
       "}\n",
       "notes {\n",
       "  pitch: 76\n",
       "  velocity: 80\n",
       "  start_time: 1\n",
       "  end_time: 1.5\n",
       "  part: 2\n",
       "}\n",
       "notes {\n",
       "  pitch: 77\n",
       "  velocity: 80\n",
       "  start_time: 1.5\n",
       "  end_time: 2\n",
       "}\n",
       "notes {\n",
       "  pitch: 79\n",
       "  velocity: 80\n",
       "  start_time: 2\n",
       "  end_time: 2.5\n",
       "  part: 1\n",
       "}\n",
       "notes {\n",
       "  pitch: 81\n",
       "  velocity: 80\n",
       "  start_time: 2.5\n",
       "  end_time: 3\n",
       "  part: 2\n",
       "}\n",
       "notes {\n",
       "  pitch: 83\n",
       "  velocity: 80\n",
       "  start_time: 3\n",
       "  end_time: 3.5\n",
       "  part: 3\n",
       "}\n",
       "notes {\n",
       "  pitch: 84\n",
       "  velocity: 80\n",
       "  start_time: 3.5\n",
       "  end_time: 4\n",
       "  part: 4\n",
       "}\n",
       "notes {\n",
       "  pitch: 83\n",
       "  velocity: 80\n",
       "  start_time: 4\n",
       "  end_time: 4.5\n",
       "  part: 3\n",
       "}\n",
       "notes {\n",
       "  pitch: 81\n",
       "  velocity: 80\n",
       "  start_time: 4.5\n",
       "  end_time: 5\n",
       "  part: 2\n",
       "}\n",
       "total_time: 5\n",
       ")"
      ]
     },
     "execution_count": 8,
     "metadata": {},
     "output_type": "execute_result"
    }
   ],
   "source": [
    "chunks[0]"
   ]
  },
  {
   "cell_type": "code",
   "execution_count": 9,
   "id": "fdc65d8c-133e-43b3-abc6-9ae9c282f07f",
   "metadata": {},
   "outputs": [
    {
     "name": "stderr",
     "output_type": "stream",
     "text": [
      "/home/ubuntu/miniconda3/envs/pianist/lib/python3.10/site-packages/bokeh/io/notebook.py:487: DeprecationWarning: The `source` parameter emit a  deprecation warning since IPython 8.0, it had no effects for a long time and will  be removed in future versions.\n",
      "  publish_display_data(data, metadata, source, transient=transient, **kwargs)\n"
     ]
    },
    {
     "data": {
      "text/html": [
       "<div class=\"bk-root\">\n",
       "        <a href=\"https://bokeh.org\" target=\"_blank\" class=\"bk-logo bk-logo-small bk-logo-notebook\"></a>\n",
       "        <span id=\"1083\">Loading BokehJS ...</span>\n",
       "    </div>\n"
      ]
     },
     "metadata": {},
     "output_type": "display_data"
    },
    {
     "name": "stderr",
     "output_type": "stream",
     "text": [
      "/home/ubuntu/miniconda3/envs/pianist/lib/python3.10/site-packages/bokeh/io/notebook.py:487: DeprecationWarning: The `source` parameter emit a  deprecation warning since IPython 8.0, it had no effects for a long time and will  be removed in future versions.\n",
      "  publish_display_data(data, metadata, source, transient=transient, **kwargs)\n"
     ]
    },
    {
     "data": {
      "application/javascript": [
       "(function(root) {\n",
       "  function now() {\n",
       "    return new Date();\n",
       "  }\n",
       "\n",
       "  const force = true;\n",
       "\n",
       "  if (typeof root._bokeh_onload_callbacks === \"undefined\" || force === true) {\n",
       "    root._bokeh_onload_callbacks = [];\n",
       "    root._bokeh_is_loading = undefined;\n",
       "  }\n",
       "\n",
       "const JS_MIME_TYPE = 'application/javascript';\n",
       "  const HTML_MIME_TYPE = 'text/html';\n",
       "  const EXEC_MIME_TYPE = 'application/vnd.bokehjs_exec.v0+json';\n",
       "  const CLASS_NAME = 'output_bokeh rendered_html';\n",
       "\n",
       "  /**\n",
       "   * Render data to the DOM node\n",
       "   */\n",
       "  function render(props, node) {\n",
       "    const script = document.createElement(\"script\");\n",
       "    node.appendChild(script);\n",
       "  }\n",
       "\n",
       "  /**\n",
       "   * Handle when an output is cleared or removed\n",
       "   */\n",
       "  function handleClearOutput(event, handle) {\n",
       "    const cell = handle.cell;\n",
       "\n",
       "    const id = cell.output_area._bokeh_element_id;\n",
       "    const server_id = cell.output_area._bokeh_server_id;\n",
       "    // Clean up Bokeh references\n",
       "    if (id != null && id in Bokeh.index) {\n",
       "      Bokeh.index[id].model.document.clear();\n",
       "      delete Bokeh.index[id];\n",
       "    }\n",
       "\n",
       "    if (server_id !== undefined) {\n",
       "      // Clean up Bokeh references\n",
       "      const cmd_clean = \"from bokeh.io.state import curstate; print(curstate().uuid_to_server['\" + server_id + \"'].get_sessions()[0].document.roots[0]._id)\";\n",
       "      cell.notebook.kernel.execute(cmd_clean, {\n",
       "        iopub: {\n",
       "          output: function(msg) {\n",
       "            const id = msg.content.text.trim();\n",
       "            if (id in Bokeh.index) {\n",
       "              Bokeh.index[id].model.document.clear();\n",
       "              delete Bokeh.index[id];\n",
       "            }\n",
       "          }\n",
       "        }\n",
       "      });\n",
       "      // Destroy server and session\n",
       "      const cmd_destroy = \"import bokeh.io.notebook as ion; ion.destroy_server('\" + server_id + \"')\";\n",
       "      cell.notebook.kernel.execute(cmd_destroy);\n",
       "    }\n",
       "  }\n",
       "\n",
       "  /**\n",
       "   * Handle when a new output is added\n",
       "   */\n",
       "  function handleAddOutput(event, handle) {\n",
       "    const output_area = handle.output_area;\n",
       "    const output = handle.output;\n",
       "\n",
       "    // limit handleAddOutput to display_data with EXEC_MIME_TYPE content only\n",
       "    if ((output.output_type != \"display_data\") || (!Object.prototype.hasOwnProperty.call(output.data, EXEC_MIME_TYPE))) {\n",
       "      return\n",
       "    }\n",
       "\n",
       "    const toinsert = output_area.element.find(\".\" + CLASS_NAME.split(' ')[0]);\n",
       "\n",
       "    if (output.metadata[EXEC_MIME_TYPE][\"id\"] !== undefined) {\n",
       "      toinsert[toinsert.length - 1].firstChild.textContent = output.data[JS_MIME_TYPE];\n",
       "      // store reference to embed id on output_area\n",
       "      output_area._bokeh_element_id = output.metadata[EXEC_MIME_TYPE][\"id\"];\n",
       "    }\n",
       "    if (output.metadata[EXEC_MIME_TYPE][\"server_id\"] !== undefined) {\n",
       "      const bk_div = document.createElement(\"div\");\n",
       "      bk_div.innerHTML = output.data[HTML_MIME_TYPE];\n",
       "      const script_attrs = bk_div.children[0].attributes;\n",
       "      for (let i = 0; i < script_attrs.length; i++) {\n",
       "        toinsert[toinsert.length - 1].firstChild.setAttribute(script_attrs[i].name, script_attrs[i].value);\n",
       "        toinsert[toinsert.length - 1].firstChild.textContent = bk_div.children[0].textContent\n",
       "      }\n",
       "      // store reference to server id on output_area\n",
       "      output_area._bokeh_server_id = output.metadata[EXEC_MIME_TYPE][\"server_id\"];\n",
       "    }\n",
       "  }\n",
       "\n",
       "  function register_renderer(events, OutputArea) {\n",
       "\n",
       "    function append_mime(data, metadata, element) {\n",
       "      // create a DOM node to render to\n",
       "      const toinsert = this.create_output_subarea(\n",
       "        metadata,\n",
       "        CLASS_NAME,\n",
       "        EXEC_MIME_TYPE\n",
       "      );\n",
       "      this.keyboard_manager.register_events(toinsert);\n",
       "      // Render to node\n",
       "      const props = {data: data, metadata: metadata[EXEC_MIME_TYPE]};\n",
       "      render(props, toinsert[toinsert.length - 1]);\n",
       "      element.append(toinsert);\n",
       "      return toinsert\n",
       "    }\n",
       "\n",
       "    /* Handle when an output is cleared or removed */\n",
       "    events.on('clear_output.CodeCell', handleClearOutput);\n",
       "    events.on('delete.Cell', handleClearOutput);\n",
       "\n",
       "    /* Handle when a new output is added */\n",
       "    events.on('output_added.OutputArea', handleAddOutput);\n",
       "\n",
       "    /**\n",
       "     * Register the mime type and append_mime function with output_area\n",
       "     */\n",
       "    OutputArea.prototype.register_mime_type(EXEC_MIME_TYPE, append_mime, {\n",
       "      /* Is output safe? */\n",
       "      safe: true,\n",
       "      /* Index of renderer in `output_area.display_order` */\n",
       "      index: 0\n",
       "    });\n",
       "  }\n",
       "\n",
       "  // register the mime type if in Jupyter Notebook environment and previously unregistered\n",
       "  if (root.Jupyter !== undefined) {\n",
       "    const events = require('base/js/events');\n",
       "    const OutputArea = require('notebook/js/outputarea').OutputArea;\n",
       "\n",
       "    if (OutputArea.prototype.mime_types().indexOf(EXEC_MIME_TYPE) == -1) {\n",
       "      register_renderer(events, OutputArea);\n",
       "    }\n",
       "  }\n",
       "  if (typeof (root._bokeh_timeout) === \"undefined\" || force === true) {\n",
       "    root._bokeh_timeout = Date.now() + 5000;\n",
       "    root._bokeh_failed_load = false;\n",
       "  }\n",
       "\n",
       "  const NB_LOAD_WARNING = {'data': {'text/html':\n",
       "     \"<div style='background-color: #fdd'>\\n\"+\n",
       "     \"<p>\\n\"+\n",
       "     \"BokehJS does not appear to have successfully loaded. If loading BokehJS from CDN, this \\n\"+\n",
       "     \"may be due to a slow or bad network connection. Possible fixes:\\n\"+\n",
       "     \"</p>\\n\"+\n",
       "     \"<ul>\\n\"+\n",
       "     \"<li>re-rerun `output_notebook()` to attempt to load from CDN again, or</li>\\n\"+\n",
       "     \"<li>use INLINE resources instead, as so:</li>\\n\"+\n",
       "     \"</ul>\\n\"+\n",
       "     \"<code>\\n\"+\n",
       "     \"from bokeh.resources import INLINE\\n\"+\n",
       "     \"output_notebook(resources=INLINE)\\n\"+\n",
       "     \"</code>\\n\"+\n",
       "     \"</div>\"}};\n",
       "\n",
       "  function display_loaded() {\n",
       "    const el = document.getElementById(\"1083\");\n",
       "    if (el != null) {\n",
       "      el.textContent = \"BokehJS is loading...\";\n",
       "    }\n",
       "    if (root.Bokeh !== undefined) {\n",
       "      if (el != null) {\n",
       "        el.textContent = \"BokehJS \" + root.Bokeh.version + \" successfully loaded.\";\n",
       "      }\n",
       "    } else if (Date.now() < root._bokeh_timeout) {\n",
       "      setTimeout(display_loaded, 100)\n",
       "    }\n",
       "  }\n",
       "\n",
       "  function run_callbacks() {\n",
       "    try {\n",
       "      root._bokeh_onload_callbacks.forEach(function(callback) {\n",
       "        if (callback != null)\n",
       "          callback();\n",
       "      });\n",
       "    } finally {\n",
       "      delete root._bokeh_onload_callbacks\n",
       "    }\n",
       "    console.debug(\"Bokeh: all callbacks have finished\");\n",
       "  }\n",
       "\n",
       "  function load_libs(css_urls, js_urls, callback) {\n",
       "    if (css_urls == null) css_urls = [];\n",
       "    if (js_urls == null) js_urls = [];\n",
       "\n",
       "    root._bokeh_onload_callbacks.push(callback);\n",
       "    if (root._bokeh_is_loading > 0) {\n",
       "      console.debug(\"Bokeh: BokehJS is being loaded, scheduling callback at\", now());\n",
       "      return null;\n",
       "    }\n",
       "    if (js_urls == null || js_urls.length === 0) {\n",
       "      run_callbacks();\n",
       "      return null;\n",
       "    }\n",
       "    console.debug(\"Bokeh: BokehJS not loaded, scheduling load and callback at\", now());\n",
       "    root._bokeh_is_loading = css_urls.length + js_urls.length;\n",
       "\n",
       "    function on_load() {\n",
       "      root._bokeh_is_loading--;\n",
       "      if (root._bokeh_is_loading === 0) {\n",
       "        console.debug(\"Bokeh: all BokehJS libraries/stylesheets loaded\");\n",
       "        run_callbacks()\n",
       "      }\n",
       "    }\n",
       "\n",
       "    function on_error(url) {\n",
       "      console.error(\"failed to load \" + url);\n",
       "    }\n",
       "\n",
       "    for (let i = 0; i < css_urls.length; i++) {\n",
       "      const url = css_urls[i];\n",
       "      const element = document.createElement(\"link\");\n",
       "      element.onload = on_load;\n",
       "      element.onerror = on_error.bind(null, url);\n",
       "      element.rel = \"stylesheet\";\n",
       "      element.type = \"text/css\";\n",
       "      element.href = url;\n",
       "      console.debug(\"Bokeh: injecting link tag for BokehJS stylesheet: \", url);\n",
       "      document.body.appendChild(element);\n",
       "    }\n",
       "\n",
       "    for (let i = 0; i < js_urls.length; i++) {\n",
       "      const url = js_urls[i];\n",
       "      const element = document.createElement('script');\n",
       "      element.onload = on_load;\n",
       "      element.onerror = on_error.bind(null, url);\n",
       "      element.async = false;\n",
       "      element.src = url;\n",
       "      console.debug(\"Bokeh: injecting script tag for BokehJS library: \", url);\n",
       "      document.head.appendChild(element);\n",
       "    }\n",
       "  };\n",
       "\n",
       "  function inject_raw_css(css) {\n",
       "    const element = document.createElement(\"style\");\n",
       "    element.appendChild(document.createTextNode(css));\n",
       "    document.body.appendChild(element);\n",
       "  }\n",
       "\n",
       "  const js_urls = [\"https://cdn.bokeh.org/bokeh/release/bokeh-2.4.3.min.js\", \"https://cdn.bokeh.org/bokeh/release/bokeh-gl-2.4.3.min.js\", \"https://cdn.bokeh.org/bokeh/release/bokeh-widgets-2.4.3.min.js\", \"https://cdn.bokeh.org/bokeh/release/bokeh-tables-2.4.3.min.js\", \"https://cdn.bokeh.org/bokeh/release/bokeh-mathjax-2.4.3.min.js\"];\n",
       "  const css_urls = [];\n",
       "\n",
       "  const inline_js = [    function(Bokeh) {\n",
       "      Bokeh.set_log_level(\"info\");\n",
       "    },\n",
       "function(Bokeh) {\n",
       "    }\n",
       "  ];\n",
       "\n",
       "  function run_inline_js() {\n",
       "    if (root.Bokeh !== undefined || force === true) {\n",
       "          for (let i = 0; i < inline_js.length; i++) {\n",
       "      inline_js[i].call(root, root.Bokeh);\n",
       "    }\n",
       "if (force === true) {\n",
       "        display_loaded();\n",
       "      }} else if (Date.now() < root._bokeh_timeout) {\n",
       "      setTimeout(run_inline_js, 100);\n",
       "    } else if (!root._bokeh_failed_load) {\n",
       "      console.log(\"Bokeh: BokehJS failed to load within specified timeout.\");\n",
       "      root._bokeh_failed_load = true;\n",
       "    } else if (force !== true) {\n",
       "      const cell = $(document.getElementById(\"1083\")).parents('.cell').data().cell;\n",
       "      cell.output_area.append_execute_result(NB_LOAD_WARNING)\n",
       "    }\n",
       "  }\n",
       "\n",
       "  if (root._bokeh_is_loading === 0) {\n",
       "    console.debug(\"Bokeh: BokehJS loaded, going straight to plotting\");\n",
       "    run_inline_js();\n",
       "  } else {\n",
       "    load_libs(css_urls, js_urls, function() {\n",
       "      console.debug(\"Bokeh: BokehJS plotting callback run at\", now());\n",
       "      run_inline_js();\n",
       "    });\n",
       "  }\n",
       "}(window));"
      ],
      "application/vnd.bokehjs_load.v0+json": "(function(root) {\n  function now() {\n    return new Date();\n  }\n\n  const force = true;\n\n  if (typeof root._bokeh_onload_callbacks === \"undefined\" || force === true) {\n    root._bokeh_onload_callbacks = [];\n    root._bokeh_is_loading = undefined;\n  }\n\n\n  if (typeof (root._bokeh_timeout) === \"undefined\" || force === true) {\n    root._bokeh_timeout = Date.now() + 5000;\n    root._bokeh_failed_load = false;\n  }\n\n  const NB_LOAD_WARNING = {'data': {'text/html':\n     \"<div style='background-color: #fdd'>\\n\"+\n     \"<p>\\n\"+\n     \"BokehJS does not appear to have successfully loaded. If loading BokehJS from CDN, this \\n\"+\n     \"may be due to a slow or bad network connection. Possible fixes:\\n\"+\n     \"</p>\\n\"+\n     \"<ul>\\n\"+\n     \"<li>re-rerun `output_notebook()` to attempt to load from CDN again, or</li>\\n\"+\n     \"<li>use INLINE resources instead, as so:</li>\\n\"+\n     \"</ul>\\n\"+\n     \"<code>\\n\"+\n     \"from bokeh.resources import INLINE\\n\"+\n     \"output_notebook(resources=INLINE)\\n\"+\n     \"</code>\\n\"+\n     \"</div>\"}};\n\n  function display_loaded() {\n    const el = document.getElementById(\"1083\");\n    if (el != null) {\n      el.textContent = \"BokehJS is loading...\";\n    }\n    if (root.Bokeh !== undefined) {\n      if (el != null) {\n        el.textContent = \"BokehJS \" + root.Bokeh.version + \" successfully loaded.\";\n      }\n    } else if (Date.now() < root._bokeh_timeout) {\n      setTimeout(display_loaded, 100)\n    }\n  }\n\n  function run_callbacks() {\n    try {\n      root._bokeh_onload_callbacks.forEach(function(callback) {\n        if (callback != null)\n          callback();\n      });\n    } finally {\n      delete root._bokeh_onload_callbacks\n    }\n    console.debug(\"Bokeh: all callbacks have finished\");\n  }\n\n  function load_libs(css_urls, js_urls, callback) {\n    if (css_urls == null) css_urls = [];\n    if (js_urls == null) js_urls = [];\n\n    root._bokeh_onload_callbacks.push(callback);\n    if (root._bokeh_is_loading > 0) {\n      console.debug(\"Bokeh: BokehJS is being loaded, scheduling callback at\", now());\n      return null;\n    }\n    if (js_urls == null || js_urls.length === 0) {\n      run_callbacks();\n      return null;\n    }\n    console.debug(\"Bokeh: BokehJS not loaded, scheduling load and callback at\", now());\n    root._bokeh_is_loading = css_urls.length + js_urls.length;\n\n    function on_load() {\n      root._bokeh_is_loading--;\n      if (root._bokeh_is_loading === 0) {\n        console.debug(\"Bokeh: all BokehJS libraries/stylesheets loaded\");\n        run_callbacks()\n      }\n    }\n\n    function on_error(url) {\n      console.error(\"failed to load \" + url);\n    }\n\n    for (let i = 0; i < css_urls.length; i++) {\n      const url = css_urls[i];\n      const element = document.createElement(\"link\");\n      element.onload = on_load;\n      element.onerror = on_error.bind(null, url);\n      element.rel = \"stylesheet\";\n      element.type = \"text/css\";\n      element.href = url;\n      console.debug(\"Bokeh: injecting link tag for BokehJS stylesheet: \", url);\n      document.body.appendChild(element);\n    }\n\n    for (let i = 0; i < js_urls.length; i++) {\n      const url = js_urls[i];\n      const element = document.createElement('script');\n      element.onload = on_load;\n      element.onerror = on_error.bind(null, url);\n      element.async = false;\n      element.src = url;\n      console.debug(\"Bokeh: injecting script tag for BokehJS library: \", url);\n      document.head.appendChild(element);\n    }\n  };\n\n  function inject_raw_css(css) {\n    const element = document.createElement(\"style\");\n    element.appendChild(document.createTextNode(css));\n    document.body.appendChild(element);\n  }\n\n  const js_urls = [\"https://cdn.bokeh.org/bokeh/release/bokeh-2.4.3.min.js\", \"https://cdn.bokeh.org/bokeh/release/bokeh-gl-2.4.3.min.js\", \"https://cdn.bokeh.org/bokeh/release/bokeh-widgets-2.4.3.min.js\", \"https://cdn.bokeh.org/bokeh/release/bokeh-tables-2.4.3.min.js\", \"https://cdn.bokeh.org/bokeh/release/bokeh-mathjax-2.4.3.min.js\"];\n  const css_urls = [];\n\n  const inline_js = [    function(Bokeh) {\n      Bokeh.set_log_level(\"info\");\n    },\nfunction(Bokeh) {\n    }\n  ];\n\n  function run_inline_js() {\n    if (root.Bokeh !== undefined || force === true) {\n          for (let i = 0; i < inline_js.length; i++) {\n      inline_js[i].call(root, root.Bokeh);\n    }\nif (force === true) {\n        display_loaded();\n      }} else if (Date.now() < root._bokeh_timeout) {\n      setTimeout(run_inline_js, 100);\n    } else if (!root._bokeh_failed_load) {\n      console.log(\"Bokeh: BokehJS failed to load within specified timeout.\");\n      root._bokeh_failed_load = true;\n    } else if (force !== true) {\n      const cell = $(document.getElementById(\"1083\")).parents('.cell').data().cell;\n      cell.output_area.append_execute_result(NB_LOAD_WARNING)\n    }\n  }\n\n  if (root._bokeh_is_loading === 0) {\n    console.debug(\"Bokeh: BokehJS loaded, going straight to plotting\");\n    run_inline_js();\n  } else {\n    load_libs(css_urls, js_urls, function() {\n      console.debug(\"Bokeh: BokehJS plotting callback run at\", now());\n      run_inline_js();\n    });\n  }\n}(window));"
     },
     "metadata": {},
     "output_type": "display_data"
    },
    {
     "name": "stderr",
     "output_type": "stream",
     "text": [
      "/home/ubuntu/miniconda3/envs/pianist/lib/python3.10/site-packages/bokeh/io/notebook.py:487: DeprecationWarning: The `source` parameter emit a  deprecation warning since IPython 8.0, it had no effects for a long time and will  be removed in future versions.\n",
      "  publish_display_data(data, metadata, source, transient=transient, **kwargs)\n"
     ]
    },
    {
     "data": {
      "text/html": [
       "\n",
       "  <div class=\"bk-root\" id=\"9b391fe1-c77d-488e-bf14-4847bcb1ff83\" data-root-id=\"1034\"></div>\n"
      ]
     },
     "metadata": {},
     "output_type": "display_data"
    },
    {
     "name": "stderr",
     "output_type": "stream",
     "text": [
      "/home/ubuntu/miniconda3/envs/pianist/lib/python3.10/site-packages/bokeh/io/notebook.py:487: DeprecationWarning: The `source` parameter emit a  deprecation warning since IPython 8.0, it had no effects for a long time and will  be removed in future versions.\n",
      "  publish_display_data(data, metadata, source, transient=transient, **kwargs)\n"
     ]
    },
    {
     "data": {
      "application/javascript": [
       "(function(root) {\n",
       "  function embed_document(root) {\n",
       "  const docs_json = {\"7970c946-dcc6-4cba-96b1-eff951bc60dd\":{\"defs\":[],\"roots\":{\"references\":[{\"attributes\":{\"below\":[{\"id\":\"1043\"}],\"center\":[{\"id\":\"1046\"},{\"id\":\"1050\"}],\"height\":200,\"left\":[{\"id\":\"1047\"}],\"renderers\":[{\"id\":\"1071\"}],\"title\":{\"id\":\"1073\"},\"toolbar\":{\"id\":\"1057\"},\"width\":500,\"x_range\":{\"id\":\"1035\"},\"x_scale\":{\"id\":\"1039\"},\"y_range\":{\"id\":\"1037\"},\"y_scale\":{\"id\":\"1041\"}},\"id\":\"1034\",\"subtype\":\"Figure\",\"type\":\"Plot\"},{\"attributes\":{\"bottom\":{\"field\":\"bottom\"},\"fill_alpha\":{\"value\":0.2},\"fill_color\":{\"value\":\"#d53e4f\"},\"hatch_alpha\":{\"value\":0.2},\"left\":{\"field\":\"start_time\"},\"line_alpha\":{\"value\":0.2},\"right\":{\"field\":\"end_time\"},\"top\":{\"field\":\"top\"}},\"id\":\"1070\",\"type\":\"Quad\"},{\"attributes\":{},\"id\":\"1039\",\"type\":\"LinearScale\"},{\"attributes\":{\"interval\":12},\"id\":\"1065\",\"type\":\"SingleIntervalTicker\"},{\"attributes\":{},\"id\":\"1081\",\"type\":\"Selection\"},{\"attributes\":{},\"id\":\"1080\",\"type\":\"UnionRenderers\"},{\"attributes\":{\"data\":{\"bottom\":{\"__ndarray__\":\"ZmZmZmbmUUBmZmZmZmZSQGZmZmZm5lJAZmZmZmYmU0BmZmZmZqZTQGZmZmZmJlRAZmZmZmamVEBmZmZmZuZUQGZmZmZmplRAZmZmZmYmVEA=\",\"dtype\":\"float64\",\"order\":\"little\",\"shape\":[10]},\"duration\":{\"__ndarray__\":\"AAAAAAAA4D8AAAAAAADgPwAAAAAAAOA/AAAAAAAA4D8AAAAAAADgPwAAAAAAAOA/AAAAAAAA4D8AAAAAAADgPwAAAAAAAOA/AAAAAAAA4D8=\",\"dtype\":\"float64\",\"order\":\"little\",\"shape\":[10]},\"end_time\":{\"__ndarray__\":\"AAAAAAAA4D8AAAAAAADwPwAAAAAAAPg/AAAAAAAAAEAAAAAAAAAEQAAAAAAAAAhAAAAAAAAADEAAAAAAAAAQQAAAAAAAABJAAAAAAAAAFEA=\",\"dtype\":\"float64\",\"order\":\"little\",\"shape\":[10]},\"fill_alpha\":{\"__ndarray__\":\"AAAAAAAA8D8AAAAAAADwPwAAAAAAAPA/AAAAAAAA8D8AAAAAAADwPwAAAAAAAPA/AAAAAAAA8D8AAAAAAADwPwAAAAAAAPA/AAAAAAAA8D8=\",\"dtype\":\"float64\",\"order\":\"little\",\"shape\":[10]},\"index\":[0,1,2,3,4,5,6,7,8,9],\"instrument\":[0,0,0,0,0,0,0,0,0,0],\"pitch\":[72,74,76,77,79,81,83,84,83,81],\"program\":[0,0,0,0,0,0,0,0,0,0],\"start_time\":{\"__ndarray__\":\"AAAAAAAAAAAAAAAAAADgPwAAAAAAAPA/AAAAAAAA+D8AAAAAAAAAQAAAAAAAAARAAAAAAAAACEAAAAAAAAAMQAAAAAAAABBAAAAAAAAAEkA=\",\"dtype\":\"float64\",\"order\":\"little\",\"shape\":[10]},\"top\":{\"__ndarray__\":\"mpmZmZkZUkCamZmZmZlSQJqZmZmZGVNAmpmZmZlZU0CamZmZmdlTQJqZmZmZWVRAmpmZmZnZVECamZmZmRlVQJqZmZmZ2VRAmpmZmZlZVEA=\",\"dtype\":\"float64\",\"order\":\"little\",\"shape\":[10]},\"velocity\":[80,80,80,80,80,80,80,80,80,80]},\"selected\":{\"id\":\"1081\"},\"selection_policy\":{\"id\":\"1080\"}},\"id\":\"1066\",\"type\":\"ColumnDataSource\"},{\"attributes\":{\"bottom\":{\"field\":\"bottom\"},\"fill_alpha\":{\"value\":0.1},\"fill_color\":{\"value\":\"#d53e4f\"},\"hatch_alpha\":{\"value\":0.1},\"left\":{\"field\":\"start_time\"},\"line_alpha\":{\"value\":0.1},\"right\":{\"field\":\"end_time\"},\"top\":{\"field\":\"top\"}},\"id\":\"1069\",\"type\":\"Quad\"},{\"attributes\":{\"axis\":{\"id\":\"1047\"},\"coordinates\":null,\"dimension\":1,\"group\":null,\"ticker\":{\"id\":\"1065\"}},\"id\":\"1050\",\"type\":\"Grid\"},{\"attributes\":{\"source\":{\"id\":\"1066\"}},\"id\":\"1072\",\"type\":\"CDSView\"},{\"attributes\":{\"coordinates\":null,\"group\":null},\"id\":\"1073\",\"type\":\"Title\"},{\"attributes\":{},\"id\":\"1078\",\"type\":\"BasicTickFormatter\"},{\"attributes\":{\"interval\":12},\"id\":\"1063\",\"type\":\"SingleIntervalTicker\"},{\"attributes\":{\"coordinates\":null,\"data_source\":{\"id\":\"1066\"},\"glyph\":{\"id\":\"1068\"},\"group\":null,\"hover_glyph\":null,\"muted_glyph\":{\"id\":\"1070\"},\"nonselection_glyph\":{\"id\":\"1069\"},\"view\":{\"id\":\"1072\"}},\"id\":\"1071\",\"type\":\"GlyphRenderer\"},{\"attributes\":{},\"id\":\"1079\",\"type\":\"AllLabels\"},{\"attributes\":{},\"id\":\"1041\",\"type\":\"LinearScale\"},{\"attributes\":{\"overlay\":{\"id\":\"1056\"}},\"id\":\"1053\",\"type\":\"BoxZoomTool\"},{\"attributes\":{\"callback\":null,\"tooltips\":[[\"pitch\",\"@pitch\"],[\"program\",\"@program\"],[\"velo\",\"@velocity\"],[\"duration\",\"@duration\"],[\"start_time\",\"@start_time\"],[\"end_time\",\"@end_time\"],[\"velocity\",\"@velocity\"],[\"fill_alpha\",\"@fill_alpha\"]]},\"id\":\"1051\",\"type\":\"HoverTool\"},{\"attributes\":{},\"id\":\"1052\",\"type\":\"PanTool\"},{\"attributes\":{},\"id\":\"1037\",\"type\":\"DataRange1d\"},{\"attributes\":{},\"id\":\"1035\",\"type\":\"DataRange1d\"},{\"attributes\":{\"axis_label\":\"time (sec)\",\"coordinates\":null,\"formatter\":{\"id\":\"1078\"},\"group\":null,\"major_label_policy\":{\"id\":\"1079\"},\"ticker\":{\"id\":\"1044\"}},\"id\":\"1043\",\"type\":\"LinearAxis\"},{\"attributes\":{},\"id\":\"1075\",\"type\":\"BasicTickFormatter\"},{\"attributes\":{\"bottom_units\":\"screen\",\"coordinates\":null,\"fill_alpha\":0.5,\"fill_color\":\"lightgrey\",\"group\":null,\"left_units\":\"screen\",\"level\":\"overlay\",\"line_alpha\":1.0,\"line_color\":\"black\",\"line_dash\":[4,4],\"line_width\":2,\"right_units\":\"screen\",\"syncable\":false,\"top_units\":\"screen\"},\"id\":\"1056\",\"type\":\"BoxAnnotation\"},{\"attributes\":{},\"id\":\"1044\",\"type\":\"BasicTicker\"},{\"attributes\":{\"tools\":[{\"id\":\"1051\"},{\"id\":\"1052\"},{\"id\":\"1053\"},{\"id\":\"1054\"},{\"id\":\"1055\"}]},\"id\":\"1057\",\"type\":\"Toolbar\"},{\"attributes\":{},\"id\":\"1076\",\"type\":\"AllLabels\"},{\"attributes\":{},\"id\":\"1055\",\"type\":\"SaveTool\"},{\"attributes\":{\"axis_label\":\"pitch (MIDI)\",\"coordinates\":null,\"formatter\":{\"id\":\"1075\"},\"group\":null,\"major_label_policy\":{\"id\":\"1076\"},\"ticker\":{\"id\":\"1063\"}},\"id\":\"1047\",\"type\":\"LinearAxis\"},{\"attributes\":{\"axis\":{\"id\":\"1043\"},\"coordinates\":null,\"group\":null,\"ticker\":null},\"id\":\"1046\",\"type\":\"Grid\"},{\"attributes\":{},\"id\":\"1054\",\"type\":\"ResetTool\"},{\"attributes\":{\"bottom\":{\"field\":\"bottom\"},\"fill_alpha\":{\"field\":\"fill_alpha\"},\"fill_color\":{\"value\":\"#d53e4f\"},\"left\":{\"field\":\"start_time\"},\"right\":{\"field\":\"end_time\"},\"top\":{\"field\":\"top\"}},\"id\":\"1068\",\"type\":\"Quad\"}],\"root_ids\":[\"1034\"]},\"title\":\"Bokeh Application\",\"version\":\"2.4.3\"}};\n",
       "  const render_items = [{\"docid\":\"7970c946-dcc6-4cba-96b1-eff951bc60dd\",\"root_ids\":[\"1034\"],\"roots\":{\"1034\":\"9b391fe1-c77d-488e-bf14-4847bcb1ff83\"}}];\n",
       "  root.Bokeh.embed.embed_items_notebook(docs_json, render_items);\n",
       "  }\n",
       "  if (root.Bokeh !== undefined) {\n",
       "    embed_document(root);\n",
       "  } else {\n",
       "    let attempts = 0;\n",
       "    const timer = setInterval(function(root) {\n",
       "      if (root.Bokeh !== undefined) {\n",
       "        clearInterval(timer);\n",
       "        embed_document(root);\n",
       "      } else {\n",
       "        attempts++;\n",
       "        if (attempts > 100) {\n",
       "          clearInterval(timer);\n",
       "          console.log(\"Bokeh: ERROR: Unable to run BokehJS code because BokehJS library is missing\");\n",
       "        }\n",
       "      }\n",
       "    }, 10, root)\n",
       "  }\n",
       "})(window);"
      ],
      "application/vnd.bokehjs_exec.v0+json": ""
     },
     "metadata": {
      "application/vnd.bokehjs_exec.v0+json": {
       "id": "1034"
      }
     },
     "output_type": "display_data"
    }
   ],
   "source": [
    "note_seq.plot_sequence(chunks[0].seq)"
   ]
  },
  {
   "cell_type": "code",
   "execution_count": 16,
   "id": "3fde1ec3-300f-4f44-ab38-bd7d9af7216f",
   "metadata": {},
   "outputs": [],
   "source": [
    "etude_melodies = [\"FrenchSuiteNo1Allemande\", \"FrenchSuiteNo5Sarabande\", \"PianoSonataD8451StMov\", \"PartitaNo26\", \n",
    "                  \"WaltzOp64No1\", \"BagatelleOp3No4\", \"KreislerianaOp16No8\", \"FrenchSuiteNo5Gavotte\", \n",
    "                  \"PianoSonataNo232NdMov\", \"GolliwoggsCakewalk\", \"PianoSonataNo21StMov\", \"PianoSonataK279InCMajor1StMov\"]\n",
    "\n",
    "available_melodies = ['TwinkleTwinkleLittleStar', 'CMajorScaleOneHand', 'CMajorScaleTwoHands', 'DMajorScaleOneHand', \n",
    "                       'DMajorScaleTwoHands', 'CMajorChordProgressionTwoHands', 'TwinkleTwinkleRousseau', 'NocturneRousseau']\n",
    "\n",
    "all_chunks = []\n",
    "chunk_duration = 2\n",
    "\n",
    "for melody in available_melodies:\n",
    "    midi = music.load(melody)\n",
    "    chunks = utils.get_overlapping_chunks_with_auto_overlap(midi, chunk_duration)\n",
    "    all_chunks.extend(chunks)\n"
   ]
  },
  {
   "cell_type": "code",
   "execution_count": 17,
   "id": "80049b5a-f591-4219-b8e5-91d02311133d",
   "metadata": {},
   "outputs": [
    {
     "data": {
      "text/plain": [
       "notes {\n",
       "  pitch: 60\n",
       "  velocity: 80\n",
       "  end_time: 0.5\n",
       "}\n",
       "notes {\n",
       "  pitch: 60\n",
       "  velocity: 80\n",
       "  start_time: 0.5\n",
       "  end_time: 1\n",
       "}\n",
       "notes {\n",
       "  pitch: 67\n",
       "  velocity: 80\n",
       "  start_time: 1\n",
       "  end_time: 1.5\n",
       "  part: 2\n",
       "}\n",
       "notes {\n",
       "  pitch: 67\n",
       "  velocity: 80\n",
       "  start_time: 1.5\n",
       "  end_time: 2\n",
       "  part: 2\n",
       "}\n",
       "total_time: 2"
      ]
     },
     "execution_count": 17,
     "metadata": {},
     "output_type": "execute_result"
    }
   ],
   "source": [
    "all_chunks[0].seq"
   ]
  },
  {
   "cell_type": "code",
   "execution_count": 7,
   "id": "f7dda356-460a-4c71-a2c8-ec5782b5ff79",
   "metadata": {},
   "outputs": [],
   "source": [
    "all_pitch = []\n",
    "\n",
    "for chunk in all_chunks:\n",
    "    for note in list(chunk.seq.notes):\n",
    "        all_pitch.append(note.pitch)"
   ]
  },
  {
   "cell_type": "code",
   "execution_count": 8,
   "id": "bd6ba348-d6d4-4c76-8d97-5d95215dd865",
   "metadata": {},
   "outputs": [
    {
     "data": {
      "text/plain": [
       "66"
      ]
     },
     "execution_count": 8,
     "metadata": {},
     "output_type": "execute_result"
    }
   ],
   "source": [
    "len(set(all_pitch))"
   ]
  },
  {
   "cell_type": "code",
   "execution_count": 13,
   "id": "e9b8dd57-3fd1-489b-9edb-506e3d4e6432",
   "metadata": {},
   "outputs": [
    {
     "name": "stdout",
     "output_type": "stream",
     "text": [
      "0\n"
     ]
    }
   ],
   "source": [
    "from robopianist import music\n",
    "\n",
    "pig_melodies = music.PIG_MIDIS.copy()\n",
    "\n",
    "print(len(pig_melodies))\n",
    "\n",
    "\n",
    "all_chunks = []\n",
    "chunk_duration = 5\n",
    "\n",
    "for melody in pig_melodies:\n",
    "    midi = music.load(melody)\n",
    "    chunks = utils.get_overlapping_chunks_with_auto_overlap(midi, chunk_duration)\n",
    "    all_chunks.extend(chunks)\n",
    "\n",
    "\n",
    "all_pitch = []\n",
    "\n",
    "for chunk in all_chunks:\n",
    "    for note in list(chunk.seq.notes):\n",
    "        all_pitch.append(note.pitch)\n",
    "\n",
    "\n",
    "all_vels = []\n",
    "\n",
    "for chunk in all_chunks:\n",
    "    for note in list(chunk.seq.notes):\n",
    "        all_vels.append(note.velocity)"
   ]
  },
  {
   "cell_type": "code",
   "execution_count": 10,
   "id": "d8ceb94e-379f-4169-af80-6e30ec723a49",
   "metadata": {},
   "outputs": [
    {
     "data": {
      "text/plain": [
       "(24, 102, 63.22934034070315)"
      ]
     },
     "execution_count": 10,
     "metadata": {},
     "output_type": "execute_result"
    }
   ],
   "source": [
    "np.min(all_pitch), np.max(all_pitch), np.mean(all_pitch)"
   ]
  },
  {
   "cell_type": "code",
   "execution_count": 11,
   "id": "63ea08ca-9c91-4e36-8e09-9b32624f44a6",
   "metadata": {},
   "outputs": [
    {
     "data": {
      "text/plain": [
       "(1, 127, 68.25955056179775)"
      ]
     },
     "execution_count": 11,
     "metadata": {},
     "output_type": "execute_result"
    }
   ],
   "source": [
    "np.min(all_vels), np.max(all_vels), np.mean(all_vels)"
   ]
  },
  {
   "cell_type": "code",
   "execution_count": 18,
   "id": "c34ad82c-785d-4a4f-a12f-26dc77672b5d",
   "metadata": {},
   "outputs": [
    {
     "data": {
      "text/plain": [
       "[pitch: 60\n",
       "velocity: 80\n",
       "end_time: 0.5\n",
       ", pitch: 60\n",
       "velocity: 80\n",
       "start_time: 0.5\n",
       "end_time: 1\n",
       ", pitch: 67\n",
       "velocity: 80\n",
       "start_time: 1\n",
       "end_time: 1.5\n",
       "part: 2\n",
       ", pitch: 67\n",
       "velocity: 80\n",
       "start_time: 1.5\n",
       "end_time: 2\n",
       "part: 2\n",
       "]"
      ]
     },
     "execution_count": 18,
     "metadata": {},
     "output_type": "execute_result"
    }
   ],
   "source": [
    "all_chunks[0].seq.notes"
   ]
  },
  {
   "cell_type": "code",
   "execution_count": 49,
   "id": "235d2be3-0ee7-4796-bbe5-c722cc1ba1e8",
   "metadata": {},
   "outputs": [],
   "source": [
    "import math\n",
    "chunk_activations = []\n",
    "for chunk in all_chunks:\n",
    "    binary_pitch_matrix = np.zeros((128, 21))\n",
    "    for note in list(chunk.seq.notes):\n",
    "        round_start = int(note.start_time * 10)\n",
    "        round_end = math.ceil(note.end_time * 10)\n",
    "        for i in range(round_start, round_end):\n",
    "            binary_pitch_matrix[note.pitch][i] = 1\n",
    "    chunk_activations.append(binary_pitch_matrix.ravel()) \n",
    "chunk_activations = np.array(chunk_activations)"
   ]
  },
  {
   "cell_type": "code",
   "execution_count": null,
   "id": "6668f0b4",
   "metadata": {},
   "outputs": [],
   "source": [
    "chunk_activations = np.empty(len(all_chunks))\n",
    "c = 0\n",
    "for chunk in all_chunks:\n",
    "    binary_pitch_matrix = np.zeros((128, 21))\n",
    "    chunk_activations[c] = binary_pitch_matrix.ravel()\n",
    "    c+=1"
   ]
  },
  {
   "cell_type": "code",
   "execution_count": 53,
   "id": "9873c234",
   "metadata": {},
   "outputs": [
    {
     "name": "stdout",
     "output_type": "stream",
     "text": [
      "20.0\n",
      "20.0\n",
      "20.0\n",
      "20.0\n",
      "20.0\n",
      "24.0\n",
      "24.0\n",
      "20.0\n",
      "40.0\n",
      "48.0\n",
      "48.0\n",
      "40.0\n",
      "20.0\n",
      "24.0\n",
      "24.0\n",
      "20.0\n",
      "40.0\n",
      "48.0\n",
      "48.0\n",
      "40.0\n",
      "80.0\n",
      "80.0\n",
      "0.0\n",
      "0.0\n",
      "0.0\n",
      "0.0\n",
      "0.0\n",
      "0.0\n",
      "0.0\n",
      "7.0\n",
      "40.0\n",
      "40.0\n",
      "38.0\n",
      "46.0\n",
      "0.0\n",
      "0.0\n",
      "0.0\n",
      "0.0\n",
      "5.0\n",
      "46.0\n",
      "68.0\n",
      "59.0\n",
      "57.0\n",
      "68.0\n",
      "62.0\n",
      "67.0\n",
      "64.0\n",
      "54.0\n",
      "57.0\n",
      "64.0\n",
      "61.0\n",
      "59.0\n"
     ]
    }
   ],
   "source": [
    "for i in range(len(chunk_activations)):\n",
    "    print (sum(chunk_activations[i]))"
   ]
  },
  {
   "cell_type": "code",
   "execution_count": 63,
   "id": "462462e2",
   "metadata": {},
   "outputs": [
    {
     "name": "stdout",
     "output_type": "stream",
     "text": [
      "Explained Variance Ratio: [0.06780308 0.06135046]\n"
     ]
    }
   ],
   "source": [
    "from sklearn.decomposition import PCA\n",
    "from sklearn.preprocessing import StandardScaler\n",
    "\n",
    "scaler = StandardScaler()\n",
    "standardized_data = scaler.fit_transform(chunk_activations)\n",
    "pca = PCA(n_components=2)\n",
    "pca.fit(standardized_data)\n",
    "\n",
    "explained_variance = pca.explained_variance_ratio_\n",
    "print(\"Explained Variance Ratio:\", explained_variance)\n",
    "\n",
    "reduced_data = pca.transform(standardized_data)"
   ]
  },
  {
   "cell_type": "code",
   "execution_count": 64,
   "id": "025b4955",
   "metadata": {},
   "outputs": [
    {
     "data": {
      "image/png": "[encoded data removed]",
      "text/plain": [
       "<Figure size 640x480 with 1 Axes>"
      ]
     },
     "metadata": {},
     "output_type": "display_data"
    }
   ],
   "source": [
    "import matplotlib.pyplot as plt\n",
    "\n",
    "x = [point[0] for point in reduced_data]\n",
    "y = [point[1] for point in reduced_data]\n",
    "\n",
    "plt.scatter(x, y)\n",
    "plt.xlabel('X-axis Label')\n",
    "plt.ylabel('Y-axis Label')\n",
    "plt.title('Scatter Plot of 2D Points')\n",
    "\n",
    "plt.show()"
   ]
  },
  {
   "cell_type": "code",
   "execution_count": null,
   "id": "a8a928b6",
   "metadata": {},
   "outputs": [],
   "source": []
  }
 ],
 "metadata": {
  "kernelspec": {
   "display_name": "Python 3 (ipykernel)",
   "language": "python",
   "name": "python3"
  },
  "language_info": {
   "codemirror_mode": {
    "name": "ipython",
    "version": 3
   },
   "file_extension": ".py",
   "mimetype": "text/x-python",
   "name": "python",
   "nbconvert_exporter": "python",
   "pygments_lexer": "ipython3",
   "version": "3.10.12"
  }
 },
 "nbformat": 4,
 "nbformat_minor": 5
}
