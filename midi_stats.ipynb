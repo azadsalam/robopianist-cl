{
 "cells": [
  {
   "cell_type": "code",
   "execution_count": 1,
   "id": "1a073dc3-81f7-49e3-8976-cfbc3a51f7f0",
   "metadata": {},
   "outputs": [
    {
     "name": "stderr",
     "output_type": "stream",
     "text": [
      "/home/azad/miniconda3/envs/pianist/lib/python3.10/site-packages/glfw/__init__.py:916: GLFWError: (65544) b'X11: Failed to open display localhost:10.0'\n",
      "  warnings.warn(message, GLFWError)\n"
     ]
    }
   ],
   "source": [
    "import numpy as np\n",
    "from robopianist import suite\n",
    "from robopianist import music\n",
    "from mujoco_utils import composer_utils\n",
    "from robopianist.suite.tasks import piano_with_shadow_hands \n",
    "import note_seq\n",
    "import pretty_midi\n",
    "!export BOKEH_PY_LOG_LEVEL=critical\n",
    "\n",
    "#for plot sequence warning from bokeh \n",
    "import warnings\n",
    "warnings.filterwarnings('ignore')"
   ]
  },
  {
   "cell_type": "code",
   "execution_count": 2,
   "id": "ea2fd3fd-0b08-44a5-ac03-c93590ea46b6",
   "metadata": {},
   "outputs": [],
   "source": [
    "%load_ext autoreload\n",
    "%autoreload 2"
   ]
  },
  {
   "cell_type": "code",
   "execution_count": 3,
   "id": "fc333d94-b05f-43ee-a2e7-b93562c16b6f",
   "metadata": {},
   "outputs": [],
   "source": [
    "etude_melodies = [\"FrenchSuiteNo1Allemande\", \"FrenchSuiteNo5Sarabande\", \"PianoSonataD8451StMov\", \"PartitaNo26\", \n",
    "                  \"WaltzOp64No1\", \"BagatelleOp3No4\", \"KreislerianaOp16No8\", \"FrenchSuiteNo5Gavotte\", \n",
    "                  \"PianoSonataNo232NdMov\", \"GolliwoggsCakewalk\", \"PianoSonataNo21StMov\", \"PianoSonataK279InCMajor1StMov\"]"
   ]
  },
  {
   "cell_type": "code",
   "execution_count": 31,
   "id": "add24a1b-a246-4005-9c58-daedd3b6516c",
   "metadata": {},
   "outputs": [],
   "source": [
    "from utils import utils\n",
    "\n",
    "\n",
    "\n",
    "def get_agg(l):\n",
    "    import numpy as np\n",
    "    return np.mean(l), np.std(l), np.max(l), np.min(l), len(l)\n",
    "    \n",
    "\n",
    "def get_stats(melodies):\n",
    "    midis = [music.load(melody) for melody in melodies]\n",
    "\n",
    "    stats = {} \n",
    "\n",
    "    #duration \n",
    "    durs = [midi.duration for midi in midis]\n",
    "    stats['total_duration'] = get_agg(durs)\n",
    "\n",
    "    #note_duration\n",
    "    note_duration = []\n",
    "    stats['empty_notes'] = {}\n",
    "    \n",
    "    for midi in midis:\n",
    "        empty_notes = 0\n",
    "        for note in midi.seq.notes:\n",
    "            note_duration.append(note.end_time - note.start_time)\n",
    "            if note.end_time - note.start_time == 0: empty_notes += 1\n",
    "\n",
    "        if empty_notes>0: stats['empty_notes'][midi.title] = empty_notes\n",
    "        \n",
    "\n",
    "    stats['note_duration'] = get_agg(note_duration)\n",
    "    \n",
    "    \n",
    "    return midis, stats\n",
    "\n"
   ]
  },
  {
   "cell_type": "code",
   "execution_count": 32,
   "id": "3e3ed06a-1e7e-4439-80ff-8fcbe47c1838",
   "metadata": {},
   "outputs": [
    {
     "name": "stdout",
     "output_type": "stream",
     "text": [
      "150\n",
      "138\n"
     ]
    }
   ],
   "source": [
    "from robopianist import music\n",
    "\n",
    "pig_melodies = music.PIG_MIDIS.copy()\n",
    "\n",
    "print(len(pig_melodies))\n",
    "\n",
    "#remove etude melodies\n",
    "\n",
    "for melody in etude_melodies:\n",
    "    if melody in pig_melodies:\n",
    "        #print(f\"{melody} present in both\")\n",
    "        pig_melodies.remove(melody)\n",
    "\n",
    "print(len(pig_melodies))"
   ]
  },
  {
   "cell_type": "code",
   "execution_count": 61,
   "id": "4ec7f8b4-8ea7-4574-920a-2fc90fcacd70",
   "metadata": {},
   "outputs": [
    {
     "name": "stdout",
     "output_type": "stream",
     "text": [
      "PIG(138) MELODIES\n",
      "{\n",
      "    \"empty_notes\": {\n",
      "        \"Kinderszenen Op 15 No1\": 2,\n",
      "        \"Piano Sonata No 28 1St Mov\": 2,\n",
      "        \"Pictures At An Exhibition Promenade\": 3,\n",
      "        \"Prelude Op 3 No 2\": 9,\n",
      "        \"Sicilienne\": 5,\n",
      "        \"Waltz Op 39 No 15\": 6\n",
      "    },\n",
      "    \"note_duration\": [\n",
      "        0.3154218103230709,\n",
      "        0.36846481944776316,\n",
      "        10.000039999999998,\n",
      "        0.0,\n",
      "        45408\n",
      "    ],\n",
      "    \"total_duration\": [\n",
      "        35.89514710144927,\n",
      "        20.691372072349495,\n",
      "        185.452,\n",
      "        12.0,\n",
      "        138\n",
      "    ]\n",
      "}\n"
     ]
    }
   ],
   "source": [
    "print(\"PIG(138) MELODIES\")\n",
    "\n",
    "midis, stats = get_stats(pig_melodies)\n",
    "\n",
    "import json\n",
    "formatted_dict = json.dumps(stats, indent=4, sort_keys=True)\n",
    "print(formatted_dict)"
   ]
  },
  {
   "cell_type": "code",
   "execution_count": 49,
   "id": "42817ca6-522c-443e-8144-c127a2737e66",
   "metadata": {},
   "outputs": [
    {
     "name": "stdout",
     "output_type": "stream",
     "text": [
      "132\n"
     ]
    }
   ],
   "source": [
    "#filter out songs with empty notes\n",
    "\n",
    "empty_notes = {\n",
    "        \"Kinderszenen Op 15 No1\": 2,\n",
    "        \"Piano Sonata No 28 1St Mov\": 2,\n",
    "        \"Pictures At An Exhibition Promenade\": 3,\n",
    "        \"Prelude Op 3 No 2\": 9,\n",
    "        \"Sicilienne\": 5,\n",
    "        \"Waltz Op 39 No 15\": 6\n",
    "    }\n",
    "\n",
    "filtered_pig_melodies = [melody for melody in pig_melodies if music.load(melody).title not in empty_notes.keys()]\n",
    "\n",
    "print(len(filtered_pig_melodies))"
   ]
  },
  {
   "cell_type": "code",
   "execution_count": 62,
   "id": "f49ee6e0-554c-4fd4-b1ce-40b573c948dd",
   "metadata": {},
   "outputs": [
    {
     "name": "stdout",
     "output_type": "stream",
     "text": [
      "Filtered PIG(132) MELODIES\n",
      "{\n",
      "    \"empty_notes\": {},\n",
      "    \"note_duration\": [\n",
      "        0.30899658297313887,\n",
      "        0.3549836121824043,\n",
      "        5.366599999999998,\n",
      "        0.013700000000000045,\n",
      "        44004\n",
      "    ],\n",
      "    \"total_duration\": [\n",
      "        36.123965909090906,\n",
      "        20.94164756260809,\n",
      "        185.452,\n",
      "        12.0,\n",
      "        132\n",
      "    ]\n",
      "}\n"
     ]
    }
   ],
   "source": [
    "print(\"Filtered PIG(132) MELODIES\")\n",
    "\n",
    "midis, stats = get_stats(filtered_pig_melodies)\n",
    "\n",
    "import json\n",
    "formatted_dict = json.dumps(stats, indent=4, sort_keys=True)\n",
    "print(formatted_dict)"
   ]
  },
  {
   "cell_type": "code",
   "execution_count": 51,
   "id": "a132ace7-4608-44b4-84be-3629a5a5e593",
   "metadata": {},
   "outputs": [
    {
     "name": "stdout",
     "output_type": "stream",
     "text": [
      "['PreludeOp28No19', 'NorwegianDanceOp35No3', 'PianoSonataNo41StMov', 'NocturneOp9No2', 'BalladeNo2', 'BalladeNo1', 'PianoSonataNo5', 'TwoPartInventionInCMinor', 'LaChasseOp19No3', 'PianoSonataK282InEbMajorMinuet1', 'KreislerianaOp16No1', 'LaFilleAuxCheveuxDeLin']\n",
      "['MazurkaOp7No1', 'SuiteBergamasquePasspied', 'RomanianDanceNo1', 'PianoSonataNo303RdMov', 'Sonatine1StMov', 'LaFilleAuxCheveuxDeLin', 'PianoSonataNo241StMov', 'LyricPiecesOp62No2', 'JeuxDeau', 'TwoPartInventionInCMinor', 'PianoSonataNo43RdMov', 'ForElise']\n"
     ]
    }
   ],
   "source": [
    "#get random set 1 \n",
    "import random \n",
    "\n",
    "seed_value = 88\n",
    "random.seed(seed_value)\n",
    "\n",
    "set_1 = random.sample(filtered_pig_melodies, 12)\n",
    "set_2 = random.sample(filtered_pig_melodies, 12)\n",
    "\n",
    "\n",
    "print(set_1)\n",
    "print(set_2)"
   ]
  },
  {
   "cell_type": "raw",
   "id": "5103cac9-f343-4b9f-b630-308dce1011d6",
   "metadata": {},
   "source": [
    "set_1 = ['PreludeOp28No19', 'NorwegianDanceOp35No3', 'PianoSonataNo41StMov', 'NocturneOp9No2', 'BalladeNo2', 'BalladeNo1', 'PianoSonataNo5', 'TwoPartInventionInCMinor', 'LaChasseOp19No3', 'PianoSonataK282InEbMajorMinuet1', 'KreislerianaOp16No1', 'LaFilleAuxCheveuxDeLin']\n",
    "set_2 = ['MazurkaOp7No1', 'SuiteBergamasquePasspied', 'RomanianDanceNo1', 'PianoSonataNo303RdMov', 'Sonatine1StMov', 'LaFilleAuxCheveuxDeLin', 'PianoSonataNo241StMov', 'LyricPiecesOp62No2', 'JeuxDeau', 'TwoPartInventionInCMinor', 'PianoSonataNo43RdMov', 'ForElise']"
   ]
  },
  {
   "cell_type": "code",
   "execution_count": 59,
   "id": "ca794f21-3778-4d67-8e0e-8bf4fed16af1",
   "metadata": {},
   "outputs": [
    {
     "data": {
      "text/plain": [
       "{'LaFilleAuxCheveuxDeLin', 'TwoPartInventionInCMinor'}"
      ]
     },
     "execution_count": 59,
     "metadata": {},
     "output_type": "execute_result"
    }
   ],
   "source": [
    "#common in two sets\n",
    "\n",
    "set(set_1).intersection(set(set_2))"
   ]
  },
  {
   "cell_type": "code",
   "execution_count": 60,
   "id": "af13e576-1f0c-45d1-83f3-4ec9a739da30",
   "metadata": {},
   "outputs": [
    {
     "name": "stdout",
     "output_type": "stream",
     "text": [
      "ETUDE MELODIES\n",
      "{\n",
      "    \"empty_notes\": {},\n",
      "    \"note_duration\": [\n",
      "        0.30644577597104955,\n",
      "        0.3404357333601664,\n",
      "        4.196099999999998,\n",
      "        0.0180599999999993,\n",
      "        3316\n",
      "    ],\n",
      "    \"total_duration\": [\n",
      "        32.63389166666666,\n",
      "        12.976367749904588,\n",
      "        53.9226,\n",
      "        15.625,\n",
      "        12\n",
      "    ]\n",
      "}\n"
     ]
    }
   ],
   "source": [
    "print(\"ETUDE MELODIES\")\n",
    "\n",
    "midis, stats = get_stats(etude_melodies)\n",
    "\n",
    "import json\n",
    "formatted_dict = json.dumps(stats, indent=4, sort_keys=True)\n",
    "print(formatted_dict)"
   ]
  },
  {
   "cell_type": "code",
   "execution_count": 63,
   "id": "ae67e4c3-7326-47df-acfc-080a5ad0ec82",
   "metadata": {},
   "outputs": [
    {
     "name": "stdout",
     "output_type": "stream",
     "text": [
      "Set 1 MELODIES\n",
      "{\n",
      "    \"empty_notes\": {},\n",
      "    \"note_duration\": [\n",
      "        0.2558409369642096,\n",
      "        0.27999189864368795,\n",
      "        4.558630000000001,\n",
      "        0.014900000000000801,\n",
      "        4694\n",
      "    ],\n",
      "    \"total_duration\": [\n",
      "        36.649825,\n",
      "        9.444442156556503,\n",
      "        54.0519,\n",
      "        17.4502,\n",
      "        12\n",
      "    ]\n",
      "}\n"
     ]
    }
   ],
   "source": [
    "print(\"Set 1 MELODIES\")\n",
    "\n",
    "midis, stats = get_stats(set_1)\n",
    "\n",
    "import json\n",
    "formatted_dict = json.dumps(stats, indent=4, sort_keys=True)\n",
    "print(formatted_dict)"
   ]
  },
  {
   "cell_type": "code",
   "execution_count": 64,
   "id": "1d3bf59d-3c02-4d97-9b01-e0be9e09f8be",
   "metadata": {},
   "outputs": [
    {
     "name": "stdout",
     "output_type": "stream",
     "text": [
      "Set 2 MELODIES\n",
      "{\n",
      "    \"empty_notes\": {},\n",
      "    \"note_duration\": [\n",
      "        0.3101763983100728,\n",
      "        0.3643574594675364,\n",
      "        4.558630000000001,\n",
      "        0.013700000000000045,\n",
      "        3296\n",
      "    ],\n",
      "    \"total_duration\": [\n",
      "        30.776633333333336,\n",
      "        9.051960776845842,\n",
      "        54.0519,\n",
      "        19.9302,\n",
      "        12\n",
      "    ]\n",
      "}\n"
     ]
    }
   ],
   "source": [
    "print(\"Set 2 MELODIES\")\n",
    "\n",
    "midis, stats = get_stats(set_2)\n",
    "\n",
    "import json\n",
    "formatted_dict = json.dumps(stats, indent=4, sort_keys=True)\n",
    "print(formatted_dict)"
   ]
  },
  {
   "cell_type": "code",
   "execution_count": 70,
   "id": "8a45f9cf-0b89-427c-aecc-9f3cae4b2d63",
   "metadata": {},
   "outputs": [
    {
     "name": "stdout",
     "output_type": "stream",
     "text": [
      "['RoboPianist-repertoire-150-PreludeOp28No19-v0', 'RoboPianist-repertoire-150-NorwegianDanceOp35No3-v0', 'RoboPianist-repertoire-150-PianoSonataNo41StMov-v0', 'RoboPianist-repertoire-150-NocturneOp9No2-v0', 'RoboPianist-repertoire-150-BalladeNo2-v0', 'RoboPianist-repertoire-150-BalladeNo1-v0', 'RoboPianist-repertoire-150-PianoSonataNo5-v0', 'RoboPianist-repertoire-150-TwoPartInventionInCMinor-v0', 'RoboPianist-repertoire-150-LaChasseOp19No3-v0', 'RoboPianist-repertoire-150-PianoSonataK282InEbMajorMinuet1-v0', 'RoboPianist-repertoire-150-KreislerianaOp16No1-v0', 'RoboPianist-repertoire-150-LaFilleAuxCheveuxDeLin-v0']\n"
     ]
    }
   ],
   "source": [
    "#test importing environment\n",
    "from robopianist import suite\n",
    "\n",
    "environment_name = \"RoboPianist-repertoire-150-{}-v0\"\n",
    "\n",
    "\n",
    "set_1_environment_names = [environment_name.format(name) for name in set_1]\n",
    "print(set_1_environment_names)\n",
    "for env_name in set_1_environment_names:\n",
    "    env = suite.load(environment_name=env_name)"
   ]
  },
  {
   "cell_type": "code",
   "execution_count": 72,
   "id": "6e5e5ebe-922b-48f0-bff1-5933f4faa042",
   "metadata": {},
   "outputs": [
    {
     "name": "stdout",
     "output_type": "stream",
     "text": [
      "['RoboPianist-repertoire-150-MazurkaOp7No1-v0', 'RoboPianist-repertoire-150-SuiteBergamasquePasspied-v0', 'RoboPianist-repertoire-150-RomanianDanceNo1-v0', 'RoboPianist-repertoire-150-PianoSonataNo303RdMov-v0', 'RoboPianist-repertoire-150-Sonatine1StMov-v0', 'RoboPianist-repertoire-150-LaFilleAuxCheveuxDeLin-v0', 'RoboPianist-repertoire-150-PianoSonataNo241StMov-v0', 'RoboPianist-repertoire-150-LyricPiecesOp62No2-v0', 'RoboPianist-repertoire-150-JeuxDeau-v0', 'RoboPianist-repertoire-150-TwoPartInventionInCMinor-v0', 'RoboPianist-repertoire-150-PianoSonataNo43RdMov-v0', 'RoboPianist-repertoire-150-ForElise-v0']\n"
     ]
    }
   ],
   "source": [
    "set_2_environment_names = [environment_name.format(name) for name in set_2]\n",
    "print(set_2_environment_names)\n",
    "for env_name in set_2_environment_names:\n",
    "    env = suite.load(environment_name=env_name)"
   ]
  },
  {
   "cell_type": "code",
   "execution_count": null,
   "id": "7449ff94-a803-4955-8753-017907bfc8ce",
   "metadata": {},
   "outputs": [],
   "source": []
  }
 ],
 "metadata": {
  "kernelspec": {
   "display_name": "Python 3 (ipykernel)",
   "language": "python",
   "name": "python3"
  },
  "language_info": {
   "codemirror_mode": {
    "name": "ipython",
    "version": 3
   },
   "file_extension": ".py",
   "mimetype": "text/x-python",
   "name": "python",
   "nbconvert_exporter": "python",
   "pygments_lexer": "ipython3",
   "version": "3.10.12"
  }
 },
 "nbformat": 4,
 "nbformat_minor": 5
}
